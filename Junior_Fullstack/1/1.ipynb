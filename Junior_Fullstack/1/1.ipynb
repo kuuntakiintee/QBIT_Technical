{
 "cells": [
  {
   "cell_type": "code",
   "execution_count": 1,
   "metadata": {},
   "outputs": [],
   "source": [
    "import numpy as py "
   ]
  },
  {
   "cell_type": "markdown",
   "metadata": {},
   "source": [
    "# DATA"
   ]
  },
  {
   "cell_type": "code",
   "execution_count": 2,
   "metadata": {},
   "outputs": [],
   "source": [
    "fruits = [\n",
    "    {\"fruitId\": 1, \"fruitName\": \"Apel\", \"fruitType\": \"IMPORT\", \"stock\": 10},\n",
    "    {\"fruitId\": 2, \"fruitName\": \"Kurma\", \"fruitType\": \"IMPORT\", \"stock\": 20},\n",
    "    {\"fruitId\": 3, \"fruitName\": \"apel\", \"fruitType\": \"IMPORT\", \"stock\": 50},\n",
    "    {\"fruitId\": 4, \"fruitName\": \"Manggis\", \"fruitType\": \"LOCAL\", \"stock\": 100},\n",
    "    {\"fruitId\": 5, \"fruitName\": \"Jeruk Bali\", \"fruitType\": \"LOCAL\", \"stock\": 10},\n",
    "    {\"fruitId\": 5, \"fruitName\": \"KURMA\", \"fruitType\": \"IMPORT\", \"stock\": 20},\n",
    "    {\"fruitId\": 5, \"fruitName\": \"Salak\", \"fruitType\": \"LOCAL\", \"stock\": 150},\n",
    "]\n"
   ]
  },
  {
   "cell_type": "markdown",
   "metadata": {},
   "source": [
    "# 1. Buah apa saja yang dimiliki Andi? (fruitName)"
   ]
  },
  {
   "cell_type": "code",
   "execution_count": 3,
   "metadata": {},
   "outputs": [],
   "source": [
    "def get_unique_fruit_names(fruits):\n",
    "    unique_names = set(fruit[\"fruitName\"].lower() for fruit in fruits)\n",
    "    return list(unique_names)"
   ]
  },
  {
   "cell_type": "code",
   "execution_count": 4,
   "metadata": {},
   "outputs": [
    {
     "name": "stdout",
     "output_type": "stream",
     "text": [
      "1. Buah yang dimiliki Andi adalah\n"
     ]
    },
    {
     "data": {
      "text/plain": [
       "['apel', 'manggis', 'kurma', 'salak', 'jeruk bali']"
      ]
     },
     "execution_count": 4,
     "metadata": {},
     "output_type": "execute_result"
    }
   ],
   "source": [
    "print(\"1. Buah yang dimiliki Andi adalah\")\n",
    "fruit_names = get_unique_fruit_names(fruits)\n",
    "fruit_names"
   ]
  },
  {
   "cell_type": "markdown",
   "metadata": {},
   "source": [
    "# 2 Andi memisahkan buahnya menjadi beberapa wadah berdasarkan tipe buah (fruitType). Berapa jumlah wadah yang dibutuhkan? Dan ada buah apa saja di masing-masing wadah?"
   ]
  },
  {
   "cell_type": "code",
   "execution_count": 12,
   "metadata": {},
   "outputs": [],
   "source": [
    "def group_fruits_by_type(fruits):\n",
    "    group = {}\n",
    "    for fruit in fruits:\n",
    "        fruit_type = fruit[\"fruitType\"]\n",
    "        if fruit_type not in group:\n",
    "            group[fruit_type] = set()\n",
    "        group[fruit_type].add(fruit[\"fruitName\"])\n",
    "    return {key: list(values) for key, values in group.items()}"
   ]
  },
  {
   "cell_type": "code",
   "execution_count": 13,
   "metadata": {},
   "outputs": [
    {
     "name": "stdout",
     "output_type": "stream",
     "text": [
      "2. Jumlah wadah yang dibutuhkan adalah 2 yaitu Import dan Local,Buah yang tedapat dalam masing masing wadah adalah :\n"
     ]
    },
    {
     "data": {
      "text/plain": [
       "{'IMPORT': ['KURMA', 'Apel', 'Kurma', 'apel'],\n",
       " 'LOCAL': ['Jeruk Bali', 'Salak', 'Manggis']}"
      ]
     },
     "execution_count": 13,
     "metadata": {},
     "output_type": "execute_result"
    }
   ],
   "source": [
    "print(\"2. Jumlah wadah yang dibutuhkan adalah 2 yaitu Import dan Local,Buah yang tedapat dalam masing masing wadah adalah :\")\n",
    "group_fruits = group_fruits_by_type(fruits)\n",
    "group_fruits"
   ]
  },
  {
   "cell_type": "markdown",
   "metadata": {},
   "source": [
    "# 3. Berapa total stock buah yang ada di masing-masing wadah?"
   ]
  },
  {
   "cell_type": "code",
   "execution_count": 7,
   "metadata": {},
   "outputs": [],
   "source": [
    "def get_total_stock_by_type(fruits):\n",
    "    stock_by_type = {}\n",
    "    for fruit in fruits:\n",
    "        fruit_type = fruit[\"fruitType\"]\n",
    "        stock_by_type[fruit_type] = stock_by_type.get(fruit_type, 0) + fruit[\"stock\"]\n",
    "    return stock_by_type"
   ]
  },
  {
   "cell_type": "code",
   "execution_count": 8,
   "metadata": {},
   "outputs": [
    {
     "name": "stdout",
     "output_type": "stream",
     "text": [
      "3. Total dari stock buah yang ada di masing-masing wadah adalah\n"
     ]
    },
    {
     "data": {
      "text/plain": [
       "{'IMPORT': 100, 'LOCAL': 260}"
      ]
     },
     "execution_count": 8,
     "metadata": {},
     "output_type": "execute_result"
    }
   ],
   "source": [
    "print(\"3. Total dari stock buah yang ada di masing-masing wadah adalah\")\n",
    "total_stock = get_total_stock_by_type(fruits)\n",
    "total_stock"
   ]
  },
  {
   "cell_type": "markdown",
   "metadata": {},
   "source": [
    "# 4. Apakah ada komentar terkait kasus di atas?"
   ]
  },
  {
   "cell_type": "code",
   "execution_count": 9,
   "metadata": {},
   "outputs": [],
   "source": [
    "def get_comments(fruits):\n",
    "    seen = {}\n",
    "    duplicate_ids = set()\n",
    "    for fruit in fruits:\n",
    "        if fruit[\"fruitId\"] in seen:\n",
    "            duplicate_ids.add(fruit[\"fruitId\"])\n",
    "        seen[fruit[\"fruitId\"]] = True\n",
    "    if duplicate_ids:\n",
    "        return f\"There are duplicate fruit entries with the same ID: {list(duplicate_ids)}.\"\n",
    "    return \"No issues with duplicate entries detected.\""
   ]
  },
  {
   "cell_type": "code",
   "execution_count": 10,
   "metadata": {},
   "outputs": [
    {
     "name": "stdout",
     "output_type": "stream",
     "text": [
      "4. Apakah ada komentar terkait kasus di atas?\n"
     ]
    },
    {
     "data": {
      "text/plain": [
       "'There are duplicate fruit entries with the same ID: [5].'"
      ]
     },
     "execution_count": 10,
     "metadata": {},
     "output_type": "execute_result"
    }
   ],
   "source": [
    "print(\"4. Apakah ada komentar terkait kasus di atas?\")\n",
    "comments = get_comments(fruits)\n",
    "comments"
   ]
  }
 ],
 "metadata": {
  "kernelspec": {
   "display_name": "Python 3",
   "language": "python",
   "name": "python3"
  },
  "language_info": {
   "codemirror_mode": {
    "name": "ipython",
    "version": 3
   },
   "file_extension": ".py",
   "mimetype": "text/x-python",
   "name": "python",
   "nbconvert_exporter": "python",
   "pygments_lexer": "ipython3",
   "version": "3.12.8"
  }
 },
 "nbformat": 4,
 "nbformat_minor": 2
}
