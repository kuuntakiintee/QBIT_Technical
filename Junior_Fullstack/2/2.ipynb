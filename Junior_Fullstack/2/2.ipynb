{
 "cells": [
  {
   "cell_type": "markdown",
   "metadata": {},
   "source": [
    "# DATA KOMENTAR"
   ]
  },
  {
   "cell_type": "code",
   "execution_count": 1,
   "metadata": {},
   "outputs": [],
   "source": [
    "comments = [\n",
    "    {\n",
    "        \"commentId\": 1,\n",
    "        \"commentContent\": \"Hai\",\n",
    "        \"replies\": [\n",
    "            {\n",
    "                \"commentId\": 11,\n",
    "                \"commentContent\": \"Hai juga\",\n",
    "                \"replies\": [\n",
    "                    {\"commentId\": 111, \"commentContent\": \"Haai juga hai jugaa\"},\n",
    "                    {\"commentId\": 112, \"commentContent\": \"Haai juga hai jugaa\"}\n",
    "                ]\n",
    "            },\n",
    "            {\n",
    "                \"commentId\": 12,\n",
    "                \"commentContent\": \"Hai juga\",\n",
    "                \"replies\": [\n",
    "                    {\"commentId\": 121, \"commentContent\": \"Haai juga hai jugaa\"}\n",
    "                ]\n",
    "            }\n",
    "        ]\n",
    "    },\n",
    "    {\n",
    "        \"commentId\": 2,\n",
    "        \"commentContent\": \"Halooo\"\n",
    "    }\n",
    "]"
   ]
  },
  {
   "cell_type": "markdown",
   "metadata": {},
   "source": [
    "# Fungsi"
   ]
  },
  {
   "cell_type": "code",
   "execution_count": 2,
   "metadata": {},
   "outputs": [],
   "source": [
    "def count_comments(comments):\n",
    "    total_count = 0\n",
    "\n",
    "    for comment in comments:\n",
    "        total_count += 1  \n",
    "        if \"replies\" in comment:\n",
    "            total_count += count_comments(comment[\"replies\"])  # Rekursi untuk balasan\n",
    "\n",
    "    return total_count"
   ]
  },
  {
   "cell_type": "code",
   "execution_count": 5,
   "metadata": {},
   "outputs": [
    {
     "name": "stdout",
     "output_type": "stream",
     "text": [
      "Total Comments: 7\n"
     ]
    }
   ],
   "source": [
    "print(\"Total Comments:\" ,count_comments(comments))"
   ]
  }
 ],
 "metadata": {
  "kernelspec": {
   "display_name": "Python 3",
   "language": "python",
   "name": "python3"
  },
  "language_info": {
   "codemirror_mode": {
    "name": "ipython",
    "version": 3
   },
   "file_extension": ".py",
   "mimetype": "text/x-python",
   "name": "python",
   "nbconvert_exporter": "python",
   "pygments_lexer": "ipython3",
   "version": "3.12.8"
  }
 },
 "nbformat": 4,
 "nbformat_minor": 2
}
